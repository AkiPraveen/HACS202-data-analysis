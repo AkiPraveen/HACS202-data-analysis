{
 "cells": [
  {
   "cell_type": "markdown",
   "metadata": {},
   "source": [
    "# HACS202 Final Project\n",
    "## Data Analysis Section\n",
    "## Group A, Spring 2020\n",
    "\n",
    "Akilesh Praveen\n",
    "\n",
    "This notebook showcases the scraping of data from honeypot logs, the tidying of said data, and the interpretation of this data.\n",
    "\n",
    "This repository also contains the raw scripts used to perform data scraping, with additional debug features included. Find them in the 'scripts' directory."
   ]
  },
  {
   "cell_type": "markdown",
   "metadata": {},
   "source": [
    "### Section 0: Imports\n",
    "\n",
    "Libraries and initialization for this project."
   ]
  },
  {
   "cell_type": "code",
   "execution_count": null,
   "metadata": {},
   "outputs": [],
   "source": [
    "import re\n",
    "import pandas as pd"
   ]
  },
  {
   "cell_type": "markdown",
   "metadata": {},
   "source": [
    "### Section 1: Data Collection"
   ]
  },
  {
   "cell_type": "markdown",
   "metadata": {},
   "source": [
    "First, let's extract the data from the `mitm_files` folder. This script is a little involved, but it essentially separates the log into 'attacks'. Each attack is considered begun when the script detects a connection initiated, and each attack is considered ended when the script detecs that the connection is closed. From this, we extract the date & time of the attack, whether a password was used, the IP address of the attacker, and the client that the attacker was using.\n",
    "\n",
    "This data was then transferred from a list of lists to a dataframe.\n",
    "\n",
    "_When connections were established and then not closed, that data appeared as ambiguous, and was therefore excluded._"
   ]
  },
  {
   "cell_type": "code",
   "execution_count": null,
   "metadata": {},
   "outputs": [],
   "source": [
    "def analyze_attack(fp):\n",
    "    line = fp.readline()\n",
    "\n",
    "    if not line:\n",
    "        return None\n",
    "\n",
    "    # read the first line of an attack\n",
    "    initial = re.search(\"([0-9]{4}-[0-9]{2}-[0-9]{2})\\s([0-9]{2}:[0-9]{2}:[0-9]{2})\\.[0-9]{3}\\s-\\s\\[Debug\\]\\s\\[Connection\\]\\sAttacker\\sconnected:\\s(.*)\\s\\|\\sClient\\sIdentification:\\s(.*)\", line)\n",
    "\n",
    "    if initial:\n",
    "        my_date = initial.group(1)\n",
    "        my_time = initial.group(2)\n",
    "        my_ip = initial.group(3)\n",
    "        my_client = initial.group(4)\n",
    "\n",
    "        # number of attempts + whether a password was used or not\n",
    "        my_attempts = 0\n",
    "        my_passwords = []\n",
    "\n",
    "        # this attack continues until we find the 'Attacker closed the connection' line\n",
    "        end = False\n",
    "        while(not end):\n",
    "            nextline = fp.readline()\n",
    "            found_end = re.search(\"Attacker\\sclosed\\sthe\\sconnection$\",nextline)\n",
    "\n",
    "            if found_end:\n",
    "                end = True\n",
    "                return [my_date, my_time, my_ip, my_client, my_attempts, my_passwords]\n",
    "\n",
    "            # this line is not the end, we can get data from it\n",
    "            \n",
    "            # check to see if password attempts have increased\n",
    "            attempt_add = re.search(\"has\\sso\\sfar\\smade\", nextline)\n",
    "\n",
    "            if attempt_add:\n",
    "                my_attempts += 1\n",
    "\n",
    "            password_add = re.search(\"trying\\sto\\sauthenticate\\swith\\s\\\"(.*)\\\"\", nextline)\n",
    "\n",
    "            if password_add:\n",
    "                if password_add.group(1) == \"none\":\n",
    "                    my_passwords.append(False)\n",
    "                else:\n",
    "                    my_passwords.append(True)\n",
    "\n",
    "            \n",
    "\n",
    "\n",
    "\n",
    "\n",
    "    else:\n",
    "        # not a distinct 'attack'- move to next event\n",
    "        read_until_next(fp)\n",
    "        return [\"\", \"\", \"\", \"\", \"\", []]\n",
    "\n",
    "\n",
    "def read_until_next(fp):\n",
    "    line = fp.readline()\n",
    "\n",
    "    while (line):\n",
    "        nextgroup = re.search(\"Attacker\\sclosed\\sthe\\sconnection$\",line)\n",
    "\n",
    "        if nextgroup:\n",
    "            break\n",
    "        else:\n",
    "            line = fp.readline()\n",
    "            \n",
    "# use analyze_attack to store all attacks in a list for now\n",
    "\n",
    "\n",
    "mitm_data_102 = []\n",
    "mitm_data_103 = []\n",
    "mitm_data_104 = []\n",
    "\n",
    "# open all 3 files and analyze them\n",
    "\n",
    "with open('../raw_data/mitm_files/mitm_file102', 'r') as fp:\n",
    "    # fp is now our file pointer to the mitm data file.\n",
    "\n",
    "    # skip the five lines at the top\n",
    "    line = fp.readline()\n",
    "    line = fp.readline()\n",
    "    line = fp.readline()\n",
    "    line = fp.readline()\n",
    "    line = fp.readline()\n",
    "\n",
    "        \n",
    "    while line:\n",
    "        curr = analyze_attack(fp)\n",
    "        if curr is None:\n",
    "            break\n",
    "        else:\n",
    "            mitm_data_102.append(curr)\n",
    "\n",
    "\n",
    "            \n",
    "# move the contents of data to a dataframe\n",
    "mitm_df_102 = pd.DataFrame(mitm_data_102, columns = ['date', 'time', 'ip_address', 'client_type', 'attempts', 'password_used' ])   \n",
    "mitm_df_102"
   ]
  },
  {
   "cell_type": "markdown",
   "metadata": {},
   "source": [
    "Next, let's analyze the data in "
   ]
  },
  {
   "cell_type": "markdown",
   "metadata": {},
   "source": [
    "### Section 2: Tidying Data\n",
    "\n",
    "Using Python and Pandas features to tidy the data we have placed in dataframes."
   ]
  },
  {
   "cell_type": "markdown",
   "metadata": {},
   "source": [
    "### Section 3: Data Analysis\n",
    "\n",
    "Drawing conclusions from the data we've come up with."
   ]
  }
 ],
 "metadata": {
  "kernelspec": {
   "display_name": "Python 3",
   "language": "python",
   "name": "python3"
  },
  "language_info": {
   "codemirror_mode": {
    "name": "ipython",
    "version": 3
   },
   "file_extension": ".py",
   "mimetype": "text/x-python",
   "name": "python",
   "nbconvert_exporter": "python",
   "pygments_lexer": "ipython3",
   "version": "3.7.3"
  }
 },
 "nbformat": 4,
 "nbformat_minor": 2
}
